{
 "cells": [
  {
   "cell_type": "markdown",
   "id": "3943adfd-d27c-407c-9609-c886f70e0377",
   "metadata": {},
   "source": [
    "# Scenario:Inventry Store"
   ]
  },
  {
   "cell_type": "code",
   "execution_count": 2,
   "id": "c1480b63-18f9-4da8-8408-871ec7a0d5cf",
   "metadata": {},
   "outputs": [],
   "source": [
    "invt={}"
   ]
  },
  {
   "cell_type": "code",
   "execution_count": 3,
   "id": "64074dfa-6c6f-4dbb-ab58-66da63a14e35",
   "metadata": {},
   "outputs": [],
   "source": [
    "ProductNo1 = \"Mobile Phone\"\n",
    "ProductNo1_quantity = 5\n",
    "ProductNo1_price = 20000\n",
    "ProductNo1_releaseYear= 2020"
   ]
  },
  {
   "cell_type": "code",
   "execution_count": 6,
   "id": "3c5d937f-e95f-40b4-86c2-9d9d967c4a5f",
   "metadata": {},
   "outputs": [],
   "source": [
    "invt['ProductNo1'] =ProductNo1\n",
    "invt['ProductN01_quantity'] = ProductNo1_quantity\n",
    "invt['ProductNo1_price'] = ProductNo1_price\n",
    "invt['ProductNo1_releaseYear'] = ProductNo1_releaseYear"
   ]
  },
  {
   "cell_type": "code",
   "execution_count": 7,
   "id": "3282671c-27d1-4ecd-8292-8d6a08f55931",
   "metadata": {},
   "outputs": [],
   "source": [
    "ProductNo2 = \"Laptop\"\n",
    "ProductNo2_quantity = 10\n",
    "ProductNo2_price = 50000\n",
    "ProductNo2_releaseYear= 2023"
   ]
  },
  {
   "cell_type": "code",
   "execution_count": 10,
   "id": "a4b0fe30-804f-4dfb-9877-1b404661adf7",
   "metadata": {},
   "outputs": [],
   "source": [
    "invt['ProductNo2 '] = 'Laptop'\n",
    "invt['ProductNo2_quantity '] = ProductNo2_quantity \n",
    "invt['ProductNo2_price'] = ProductNo2_price\n",
    "invt['ProductNo2_releaseYear'] = ProductNo2_releaseYear"
   ]
  },
  {
   "cell_type": "code",
   "execution_count": 11,
   "id": "55cfac93-0be6-48dd-8b08-692d333fced3",
   "metadata": {},
   "outputs": [
    {
     "name": "stdout",
     "output_type": "stream",
     "text": [
      "{'ProductNo1': 'Mobile Phone', 'ProductN01_quantity': 5, 'ProductNo1_price': 20000, 'ProductNo1_releaseYear': 2020, 'ProductNo2 ': 'Laptop', 'ProductNo2_quantity ': 10, 'ProductNo2_price': 50000, 'ProductNo2_releaseYear': 2023}\n"
     ]
    }
   ],
   "source": [
    "print(invt)"
   ]
  },
  {
   "cell_type": "code",
   "execution_count": 13,
   "id": "3e28075a-ef3e-4c82-8364-294d87ab37a3",
   "metadata": {},
   "outputs": [
    {
     "data": {
      "text/plain": [
       "True"
      ]
     },
     "execution_count": 13,
     "metadata": {},
     "output_type": "execute_result"
    }
   ],
   "source": [
    "\"ProductNo1_releaseYear\" in invt\n",
    "\"ProductNo2_releaseYear\" in invt"
   ]
  },
  {
   "cell_type": "code",
   "execution_count": 17,
   "id": "b0912ac1-925c-478b-9bd9-bbd73db220cc",
   "metadata": {},
   "outputs": [
    {
     "ename": "KeyError",
     "evalue": "'ProductNo1_releaseYear'",
     "output_type": "error",
     "traceback": [
      "\u001b[1;31m---------------------------------------------------------------------------\u001b[0m",
      "\u001b[1;31mKeyError\u001b[0m                                  Traceback (most recent call last)",
      "Cell \u001b[1;32mIn[17], line 1\u001b[0m\n\u001b[1;32m----> 1\u001b[0m \u001b[38;5;28;01mdel\u001b[39;00m (\u001b[43minvt\u001b[49m\u001b[43m[\u001b[49m\u001b[38;5;124;43m\"\u001b[39;49m\u001b[38;5;124;43mProductNo1_releaseYear\u001b[39;49m\u001b[38;5;124;43m\"\u001b[39;49m\u001b[43m]\u001b[49m)\n\u001b[0;32m      2\u001b[0m \u001b[38;5;28;01mdel\u001b[39;00m(invt[\u001b[38;5;124m\"\u001b[39m\u001b[38;5;124mProductNo2_releaseYear\u001b[39m\u001b[38;5;124m\"\u001b[39m])\n",
      "\u001b[1;31mKeyError\u001b[0m: 'ProductNo1_releaseYear'"
     ]
    }
   ],
   "source": [
    "del (invt[\"ProductNo1_releaseYear\"])\n",
    "del(invt[\"ProductNo2_releaseYear\"])"
   ]
  },
  {
   "cell_type": "code",
   "execution_count": null,
   "id": "187dd8cc-28a0-4fcb-8e26-282151c41bd6",
   "metadata": {},
   "outputs": [],
   "source": []
  }
 ],
 "metadata": {
  "kernelspec": {
   "display_name": "Python 3 (ipykernel)",
   "language": "python",
   "name": "python3"
  },
  "language_info": {
   "codemirror_mode": {
    "name": "ipython",
    "version": 3
   },
   "file_extension": ".py",
   "mimetype": "text/x-python",
   "name": "python",
   "nbconvert_exporter": "python",
   "pygments_lexer": "ipython3",
   "version": "3.13.5"
  }
 },
 "nbformat": 4,
 "nbformat_minor": 5
}
